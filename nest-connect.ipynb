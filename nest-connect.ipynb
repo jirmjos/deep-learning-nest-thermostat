{
 "cells": [
  {
   "cell_type": "code",
   "execution_count": 106,
   "metadata": {},
   "outputs": [],
   "source": [
    "import nest\n",
    "import datetime\n",
    "import numpy as np\n",
    "import os\n",
    "from keras.models import Sequential, load_model\n",
    "from keras.layers import Dense, Activation"
   ]
  },
  {
   "cell_type": "code",
   "execution_count": 116,
   "metadata": {},
   "outputs": [],
   "source": [
    "client_id = '1f502532-26b1-4567-8c3a-c78ab184039a'\n",
    "client_secret = 'RBsVN6rSgNOTL0e7gl1qUx40v'\n",
    "access_token_cache_file = 'nest.json'\n",
    "model_file = 'model.h5'\n",
    "target_file = 'target.npy'"
   ]
  },
  {
   "cell_type": "code",
   "execution_count": 100,
   "metadata": {},
   "outputs": [],
   "source": [
    "napi = nest.Nest(client_id=client_id, client_secret=client_secret, access_token_cache_file=access_token_cache_file)"
   ]
  },
  {
   "cell_type": "code",
   "execution_count": 101,
   "metadata": {},
   "outputs": [],
   "source": [
    "if napi.authorization_required:\n",
    "    print(\"Please supply PIN\")\n",
    "    print(napi.authorize_url)"
   ]
  },
  {
   "cell_type": "code",
   "execution_count": 103,
   "metadata": {},
   "outputs": [],
   "source": [
    "pin = False"
   ]
  },
  {
   "cell_type": "code",
   "execution_count": 104,
   "metadata": {},
   "outputs": [],
   "source": [
    "if pin:\n",
    "    napi.request_token('N95GDHUA')"
   ]
  },
  {
   "cell_type": "code",
   "execution_count": 105,
   "metadata": {},
   "outputs": [],
   "source": [
    "lr = napi.structures[0].thermostats[0]"
   ]
  },
  {
   "cell_type": "code",
   "execution_count": 107,
   "metadata": {},
   "outputs": [],
   "source": [
    "if os.path.isfile(model_file):\n",
    "    print(\"Loading model\")\n",
    "    model = load_model(model_file)\n",
    "else:\n",
    "    print(\"Generating model\")\n",
    "    model = Sequential()\n",
    "    model.add(Dense(64, input_dim=6))\n",
    "    model.add(Activation('relu'))\n",
    "    model.add(Dense(64))\n",
    "    model.add(Activation('relu'))\n",
    "    model.add(Dense(1))\n",
    "    model.compile(loss='mean_squared_error', optimizer='adam')"
   ]
  },
  {
   "cell_type": "code",
   "execution_count": 117,
   "metadata": {},
   "outputs": [],
   "source": [
    "if os.path.isfile(target_file):\n",
    "    print(\"Loading saved target file\")\n",
    "    data = np.load(target_file)\n",
    "else:\n",
    "    print(\"Generating new target file\")\n",
    "    data = np.array([datetime.datetime.now(), lr.target])\n",
    "    np.save(target_file, data)"
   ]
  },
  {
   "cell_type": "code",
   "execution_count": 120,
   "metadata": {},
   "outputs": [],
   "source": [
    "def input_fn(lr, last_change):\n",
    "    now = datetime.datetime.now()\n",
    "    diff = now - last_change\n",
    "    return np.array([[now.hour/24.0, now.minute/60.0, \n",
    "                     diff.seconds/3600/24.0, (diff.seconds/60)%60/60.0,\n",
    "                     lr.temperature/100.0, lr.humidity/100.0]]), np.array([[lr.target/100.0]])"
   ]
  },
  {
   "cell_type": "code",
   "execution_count": 121,
   "metadata": {},
   "outputs": [],
   "source": [
    "x, y = input_fn(lr, data[0])"
   ]
  },
  {
   "cell_type": "code",
   "execution_count": 122,
   "metadata": {},
   "outputs": [],
   "source": [
    "if data[1] != lr.target:\n",
    "    print(\"Target was updated {} {}\".format(data[1], lr.target))\n",
    "    # Setting changed, learn\n",
    "    data = np.array([datetime.datetime.now(), lr.target])\n",
    "    np.save(target_file, data)"
   ]
  },
  {
   "cell_type": "code",
   "execution_count": 123,
   "metadata": {},
   "outputs": [
    {
     "data": {
      "text/plain": [
       "(array([[ 0.66666667,  0.7       ,  0.        ,  0.08333333,  0.24      ,\n",
       "          0.5       ]]),\n",
       " array([[ 0.27]]),\n",
       " array([datetime.datetime(2017, 9, 25, 16, 37, 11, 332383), 27.0], dtype=object))"
      ]
     },
     "execution_count": 123,
     "metadata": {},
     "output_type": "execute_result"
    }
   ],
   "source": [
    "x, y, data"
   ]
  },
  {
   "cell_type": "code",
   "execution_count": 125,
   "metadata": {},
   "outputs": [
    {
     "name": "stdout",
     "output_type": "stream",
     "text": [
      "Epoch 1/10\n",
      "1/1 [==============================] - 0s - loss: 0.1802\n",
      "Epoch 2/10\n",
      "1/1 [==============================] - 0s - loss: 0.1496\n",
      "Epoch 3/10\n",
      "1/1 [==============================] - 0s - loss: 0.1225\n",
      "Epoch 4/10\n",
      "1/1 [==============================] - 0s - loss: 0.0986\n",
      "Epoch 5/10\n",
      "1/1 [==============================] - 0s - loss: 0.0777\n",
      "Epoch 6/10\n",
      "1/1 [==============================] - 0s - loss: 0.0597\n",
      "Epoch 7/10\n",
      "1/1 [==============================] - 0s - loss: 0.0444\n",
      "Epoch 8/10\n",
      "1/1 [==============================] - 0s - loss: 0.0320\n",
      "Epoch 9/10\n",
      "1/1 [==============================] - 0s - loss: 0.0220\n",
      "Epoch 10/10\n",
      "1/1 [==============================] - 0s - loss: 0.0141\n"
     ]
    },
    {
     "data": {
      "text/plain": [
       "<keras.callbacks.History at 0x10b81b210>"
      ]
     },
     "execution_count": 125,
     "metadata": {},
     "output_type": "execute_result"
    }
   ],
   "source": [
    "model.fit(x, y, nb_epoch=10, batch_size=1)"
   ]
  },
  {
   "cell_type": "code",
   "execution_count": 127,
   "metadata": {},
   "outputs": [],
   "source": [
    "new_target = int(model.predict(x) * 100.0)"
   ]
  },
  {
   "cell_type": "code",
   "execution_count": 128,
   "metadata": {},
   "outputs": [
    {
     "data": {
      "text/plain": [
       "17"
      ]
     },
     "execution_count": 128,
     "metadata": {},
     "output_type": "execute_result"
    }
   ],
   "source": [
    "new_target"
   ]
  },
  {
   "cell_type": "code",
   "execution_count": 131,
   "metadata": {},
   "outputs": [
    {
     "name": "stdout",
     "output_type": "stream",
     "text": [
      "Updating temperature\n"
     ]
    }
   ],
   "source": [
    "if new_target < lr.temperature:\n",
    "    print(\"Updating temperature\")\n",
    "    lr.target = new_target"
   ]
  },
  {
   "cell_type": "code",
   "execution_count": 133,
   "metadata": {},
   "outputs": [],
   "source": [
    "model.save(model_file)"
   ]
  },
  {
   "cell_type": "code",
   "execution_count": null,
   "metadata": {},
   "outputs": [],
   "source": []
  }
 ],
 "metadata": {
  "kernelspec": {
   "display_name": "Python 2",
   "language": "python",
   "name": "python2"
  },
  "language_info": {
   "codemirror_mode": {
    "name": "ipython",
    "version": 2
   },
   "file_extension": ".py",
   "mimetype": "text/x-python",
   "name": "python",
   "nbconvert_exporter": "python",
   "pygments_lexer": "ipython2",
   "version": "2.7.13"
  }
 },
 "nbformat": 4,
 "nbformat_minor": 2
}
